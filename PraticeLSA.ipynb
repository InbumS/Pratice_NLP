{
  "nbformat": 4,
  "nbformat_minor": 0,
  "metadata": {
    "colab": {
      "name": "PraticeLSA.ipynb",
      "provenance": [],
      "authorship_tag": "ABX9TyO1VFA3eysXhNGVv0tCjIQR",
      "include_colab_link": true
    },
    "kernelspec": {
      "name": "python3",
      "display_name": "Python 3"
    },
    "language_info": {
      "name": "python"
    }
  },
  "cells": [
    {
      "cell_type": "markdown",
      "metadata": {
        "id": "view-in-github",
        "colab_type": "text"
      },
      "source": [
        "<a href=\"https://colab.research.google.com/github/InbumS/Pratice_NLP/blob/master/PraticeLSA.ipynb\" target=\"_parent\"><img src=\"https://colab.research.google.com/assets/colab-badge.svg\" alt=\"Open In Colab\"/></a>"
      ]
    },
    {
      "cell_type": "code",
      "execution_count": 8,
      "metadata": {
        "id": "wBPOEbWlf5Of"
      },
      "outputs": [],
      "source": [
        "import pandas as pd\n",
        "from sklearn.datasets import fetch_20newsgroups"
      ]
    },
    {
      "cell_type": "code",
      "source": [
        "dataset = fetch_20newsgroups(shuffle=True, random_state=1, remove=('headers', 'footers', 'quotes'))\n",
        "documents = dataset.data\n",
        "len(documents)"
      ],
      "metadata": {
        "colab": {
          "base_uri": "https://localhost:8080/"
        },
        "id": "_cS3e3YdjFF3",
        "outputId": "ab010341-08fc-41b8-8b5d-43ea9bfcf7b3"
      },
      "execution_count": 9,
      "outputs": [
        {
          "output_type": "execute_result",
          "data": {
            "text/plain": [
              "11314"
            ]
          },
          "metadata": {},
          "execution_count": 9
        }
      ]
    },
    {
      "cell_type": "code",
      "source": [
        "dataset.target_names"
      ],
      "metadata": {
        "colab": {
          "base_uri": "https://localhost:8080/"
        },
        "id": "UeB0uIfPmAnZ",
        "outputId": "e635565f-f14b-4f67-f9b8-fe295eb8be26"
      },
      "execution_count": 10,
      "outputs": [
        {
          "output_type": "execute_result",
          "data": {
            "text/plain": [
              "['alt.atheism',\n",
              " 'comp.graphics',\n",
              " 'comp.os.ms-windows.misc',\n",
              " 'comp.sys.ibm.pc.hardware',\n",
              " 'comp.sys.mac.hardware',\n",
              " 'comp.windows.x',\n",
              " 'misc.forsale',\n",
              " 'rec.autos',\n",
              " 'rec.motorcycles',\n",
              " 'rec.sport.baseball',\n",
              " 'rec.sport.hockey',\n",
              " 'sci.crypt',\n",
              " 'sci.electronics',\n",
              " 'sci.med',\n",
              " 'sci.space',\n",
              " 'soc.religion.christian',\n",
              " 'talk.politics.guns',\n",
              " 'talk.politics.mideast',\n",
              " 'talk.politics.misc',\n",
              " 'talk.religion.misc']"
            ]
          },
          "metadata": {},
          "execution_count": 10
        }
      ]
    },
    {
      "cell_type": "code",
      "source": [
        "news_df = pd.DataFrame({'document': documents})"
      ],
      "metadata": {
        "id": "KK6MdDlKmp-P"
      },
      "execution_count": 5,
      "outputs": []
    },
    {
      "cell_type": "code",
      "source": [
        "# 알파벳 이외의 문자 제거\n",
        "news_df['clean_doc'] = news_df['document'].str.replace(\"[^a-zA-Z#]\", \" \")\n",
        "\n",
        "# 길이가 3이하인 문자 제거\n",
        "news_df['clean_doc'] = news_df['clean_doc'].apply(lambda x: ' '.join([w for w in x.split() if len(w) > 3]))\n",
        "\n",
        "# 소문자로 바꾸기\n",
        "news_df['clean_doc'] = news_df['clean_doc'].apply(lambda x: x.lower())"
      ],
      "metadata": {
        "colab": {
          "base_uri": "https://localhost:8080/"
        },
        "id": "HUqgj5nDm1pP",
        "outputId": "91143564-d128-4116-debd-1e665dcec7e2"
      },
      "execution_count": 6,
      "outputs": [
        {
          "output_type": "stream",
          "name": "stderr",
          "text": [
            "/usr/local/lib/python3.7/dist-packages/ipykernel_launcher.py:2: FutureWarning: The default value of regex will change from True to False in a future version.\n",
            "  \n"
          ]
        }
      ]
    },
    {
      "cell_type": "code",
      "source": [
        "from sklearn.feature_extraction.text import TfidfVectorizer\n",
        "\n",
        "vectorizer = TfidfVectorizer(stop_words='english', \n",
        "max_features= 1000, # 1,000개의 단어만 추출\n",
        "max_df = 0.5, \n",
        "smooth_idf=True)\n",
        "\n",
        "X = vectorizer.fit_transform(news_df['clean_doc'])\n",
        "\n",
        "X.shape # DTM의 행렬 크기 반환"
      ],
      "metadata": {
        "colab": {
          "base_uri": "https://localhost:8080/"
        },
        "id": "GD2_tdDrmezD",
        "outputId": "51ef8422-3022-468e-aced-e7bdc3138974"
      },
      "execution_count": 7,
      "outputs": [
        {
          "output_type": "execute_result",
          "data": {
            "text/plain": [
              "(11314, 1000)"
            ]
          },
          "metadata": {},
          "execution_count": 7
        }
      ]
    },
    {
      "cell_type": "code",
      "source": [
        "from sklearn.decomposition import TruncatedSVD\n",
        "svd_model = TruncatedSVD(n_components=20, algorithm='randomized', n_iter=100, random_state=122)\n",
        "\n",
        "svd_model.fit(X)\n",
        "\n",
        "svd_model.components_.shape"
      ],
      "metadata": {
        "colab": {
          "base_uri": "https://localhost:8080/"
        },
        "id": "oLhvQWbeohbt",
        "outputId": "47eabf2e-da66-430d-9d93-c154d9803dee"
      },
      "execution_count": 14,
      "outputs": [
        {
          "output_type": "execute_result",
          "data": {
            "text/plain": [
              "(20, 1000)"
            ]
          },
          "metadata": {},
          "execution_count": 14
        }
      ]
    },
    {
      "cell_type": "code",
      "source": [
        "svd_model.singular_values_"
      ],
      "metadata": {
        "colab": {
          "base_uri": "https://localhost:8080/"
        },
        "id": "Ww8asnc1xA5Z",
        "outputId": "317cc424-bceb-4264-f6c3-56a98afb234e"
      },
      "execution_count": 15,
      "outputs": [
        {
          "output_type": "execute_result",
          "data": {
            "text/plain": [
              "array([17.15952833,  9.93882749,  8.17139855,  7.92032011,  7.62377374,\n",
              "        7.5257242 ,  7.25096862,  7.00623237,  6.88289372,  6.85602044,\n",
              "        6.68476301,  6.56045782,  6.52895929,  6.42222944,  6.33939436,\n",
              "        6.21686249,  6.17477882,  6.09487639,  6.00247117,  5.90654237])"
            ]
          },
          "metadata": {},
          "execution_count": 15
        }
      ]
    },
    {
      "cell_type": "code",
      "source": [
        "terms = vectorizer.get_feature_names()\n",
        "len(terms)"
      ],
      "metadata": {
        "colab": {
          "base_uri": "https://localhost:8080/"
        },
        "id": "FUb5X04MxiIp",
        "outputId": "12ba85d2-f199-4671-ed8e-3a19c7140d2e"
      },
      "execution_count": 16,
      "outputs": [
        {
          "output_type": "stream",
          "name": "stderr",
          "text": [
            "/usr/local/lib/python3.7/dist-packages/sklearn/utils/deprecation.py:87: FutureWarning: Function get_feature_names is deprecated; get_feature_names is deprecated in 1.0 and will be removed in 1.2. Please use get_feature_names_out instead.\n",
            "  warnings.warn(msg, category=FutureWarning)\n"
          ]
        },
        {
          "output_type": "execute_result",
          "data": {
            "text/plain": [
              "1000"
            ]
          },
          "metadata": {},
          "execution_count": 16
        }
      ]
    },
    {
      "cell_type": "code",
      "source": [
        "# 재밌는 문법이 존재\n",
        "\n",
        "n = 8\n",
        "components = svd_model.components_\n",
        "for index, topic in enumerate(components):\n",
        "    print('Topic %d: '%(index + 1), [terms[i] for i in topic.argsort()[: -n - 1: -1]])"
      ],
      "metadata": {
        "colab": {
          "base_uri": "https://localhost:8080/"
        },
        "id": "hvBqYDehxjJB",
        "outputId": "65dfee16-f95c-4668-d9c3-f96326371aa1"
      },
      "execution_count": 18,
      "outputs": [
        {
          "output_type": "stream",
          "name": "stdout",
          "text": [
            "Topic 1:  ['just', 'like', 'know', 'people', 'think', 'does', 'good', 'time']\n",
            "Topic 2:  ['thanks', 'windows', 'card', 'drive', 'mail', 'file', 'advance', 'files']\n",
            "Topic 3:  ['game', 'team', 'year', 'games', 'drive', 'season', 'good', 'players']\n",
            "Topic 4:  ['drive', 'scsi', 'disk', 'hard', 'problem', 'drives', 'just', 'card']\n",
            "Topic 5:  ['drive', 'know', 'thanks', 'does', 'just', 'scsi', 'drives', 'hard']\n",
            "Topic 6:  ['just', 'like', 'windows', 'know', 'does', 'window', 'file', 'think']\n",
            "Topic 7:  ['just', 'like', 'mail', 'bike', 'thanks', 'chip', 'space', 'email']\n",
            "Topic 8:  ['does', 'know', 'chip', 'like', 'card', 'clipper', 'encryption', 'government']\n",
            "Topic 9:  ['like', 'card', 'sale', 'video', 'offer', 'jesus', 'good', 'price']\n",
            "Topic 10:  ['like', 'drive', 'file', 'files', 'sounds', 'program', 'window', 'space']\n",
            "Topic 11:  ['people', 'like', 'thanks', 'card', 'government', 'windows', 'right', 'think']\n",
            "Topic 12:  ['think', 'good', 'thanks', 'need', 'chip', 'know', 'really', 'bike']\n",
            "Topic 13:  ['think', 'does', 'just', 'mail', 'like', 'game', 'file', 'chip']\n",
            "Topic 14:  ['know', 'good', 'people', 'windows', 'file', 'sale', 'files', 'price']\n",
            "Topic 15:  ['space', 'know', 'think', 'nasa', 'card', 'year', 'shuttle', 'article']\n",
            "Topic 16:  ['does', 'israel', 'think', 'right', 'israeli', 'sale', 'jews', 'window']\n",
            "Topic 17:  ['good', 'space', 'card', 'does', 'thanks', 'year', 'like', 'nasa']\n",
            "Topic 18:  ['people', 'does', 'window', 'problem', 'space', 'using', 'work', 'server']\n",
            "Topic 19:  ['right', 'bike', 'time', 'windows', 'space', 'does', 'file', 'thanks']\n",
            "Topic 20:  ['file', 'problem', 'files', 'need', 'time', 'card', 'game', 'people']\n"
          ]
        }
      ]
    }
  ]
}